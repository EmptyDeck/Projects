{
 "cells": [
  {
   "cell_type": "code",
   "execution_count": 1,
   "metadata": {},
   "outputs": [
    {
     "name": "stdout",
     "output_type": "stream",
     "text": [
      "Apple device detected\n",
      "Activating Apple Silicon GPU\n"
     ]
    }
   ],
   "source": [
    "##Hardware\n",
    "import torch\n",
    "if torch.cuda.is_available() == True:\n",
    "  device = 'cuda'\n",
    "  templist = [1,2,3]\n",
    "  templist = torch.FloatTensor(templist).to(device)\n",
    "  print(\"Cuda torch working : \",end=\"\")\n",
    "  print(templist.is_cuda)\n",
    "  print(\"current device no. : \",end=\"\")\n",
    "  print(torch.cuda.current_device())\n",
    "  print(\"GPU device count : \",end=\"\")\n",
    "  print(torch.cuda.device_count())\n",
    "  print(\"GPU name : \",end=\"\")\n",
    "  print(torch.cuda.get_device_name(0))\n",
    "  print(\"device : \",device)\n",
    "  ! nvidia-smi\n",
    "elif torch.backends.mps.is_available() == True:\n",
    "  print(\"Apple device detected\\nActivating Apple Silicon GPU\")\n",
    "  device = torch.device(\"mps\")\n",
    "else:\n",
    "  print(\"cant use gpu , activating cpu\")\n",
    "  device = 'cpu'"
   ]
  },
  {
   "cell_type": "code",
   "execution_count": 2,
   "metadata": {},
   "outputs": [],
   "source": [
    "import torch\n",
    "import torch.nn as nn\n",
    "import torch.optim as optim\n",
    "import torchvision\n",
    "import torchvision.transforms as transforms"
   ]
  },
  {
   "cell_type": "code",
   "execution_count": 3,
   "metadata": {},
   "outputs": [
    {
     "name": "stdout",
     "output_type": "stream",
     "text": [
      "Files already downloaded and verified\n",
      "Files already downloaded and verified\n"
     ]
    }
   ],
   "source": [
    "# Load the CIFAR-10 dataset\n",
    "num_subprocesses = 8\n",
    "\n",
    "transform = transforms.Compose([\n",
    "    transforms.ToTensor(),\n",
    "    transforms.Normalize((0.5, 0.5, 0.5), (0.5, 0.5, 0.5))\n",
    "])\n",
    "\n",
    "trainset = torchvision.datasets.CIFAR10(root='./data', train=True,\n",
    "                                        download=True, transform=transform)\n",
    "trainloader = torch.utils.data.DataLoader(trainset, batch_size=100,\n",
    "                                        shuffle=True, num_workers=num_subprocesses)\n",
    "\n",
    "testset = torchvision.datasets.CIFAR10(root='./data', train=False,\n",
    "                                        download=True, transform=transform)\n",
    "testloader = torch.utils.data.DataLoader(testset, batch_size=1000,\n",
    "                                        shuffle=False, num_workers=0)"
   ]
  },
  {
   "cell_type": "code",
   "execution_count": 4,
   "metadata": {},
   "outputs": [
    {
     "data": {
      "text/plain": [
       "10000"
      ]
     },
     "execution_count": 4,
     "metadata": {},
     "output_type": "execute_result"
    }
   ],
   "source": [
    "len(testset)"
   ]
  },
  {
   "cell_type": "code",
   "execution_count": 5,
   "metadata": {},
   "outputs": [],
   "source": [
    " # CNN with 3 layer\n",
    "# Define the CNN model\n",
    "class CNN3(nn.Module):\n",
    "    def __init__(self,dropout_rate = 0.1):\n",
    "        super(CNN3, self).__init__()\n",
    "        self.dropout_rate = dropout_rate\n",
    "        self.conv1 = nn.Conv2d(in_channels = 3,out_channels= 6,kernel_size= 5)\n",
    "        self.pool = nn.MaxPool2d(kernel_size= 2,stride= 2)\n",
    "        self.conv2 = nn.Conv2d(in_channels= 6,out_channels= 16,kernel_size= 5)\n",
    "        self.fc1 = nn.Linear(in_features= 16 * 5 * 5,out_features= 120)\n",
    "        self.fc2 = nn.Linear(in_features= 120,out_features= 84)\n",
    "        self.fc3 = nn.Linear(in_features= 84,out_features= 10)\n",
    "        \n",
    "    def forward(self, x):\n",
    "        x = self.pool(nn.functional.relu(self.conv1(x)))\n",
    "        x = self.pool(nn.functional.relu(self.conv2(x)))\n",
    "        x = x.view(-1, 16 * 5 * 5)\n",
    "        x = nn.functional.relu(self.fc1(x))\n",
    "        x = nn.functional.relu(self.fc2(x))\n",
    "        x = self.fc3(x)\n",
    "        return x\n",
    "        \n",
    "CNN3 = CNN3"
   ]
  },
  {
   "cell_type": "code",
   "execution_count": 6,
   "metadata": {},
   "outputs": [],
   "source": [
    "#CNN with 5layer\n",
    "\n",
    "\n",
    "class CNN5(nn.Module):\n",
    "    def __init__(self):\n",
    "        super(CNN5, self).__init__()\n",
    "        self.layer1 = nn.Sequential(\n",
    "            nn.Conv2d(in_channels=3, out_channels=32, kernel_size=3, padding=1),\n",
    "            nn.BatchNorm2d(32),\n",
    "            nn.ReLU(),\n",
    "            nn.MaxPool2d(kernel_size=2, stride=2))\n",
    "        self.layer2 = nn.Sequential(\n",
    "            nn.Conv2d(32, 64, kernel_size=3, padding=1),\n",
    "            nn.BatchNorm2d(64),\n",
    "            nn.ReLU(),\n",
    "            nn.MaxPool2d(kernel_size=2, stride=2))\n",
    "        self.layer3 = nn.Sequential(\n",
    "            nn.Conv2d(64, 128, kernel_size=3, padding=1),\n",
    "            nn.BatchNorm2d(128),\n",
    "            nn.ReLU(),\n",
    "            nn.MaxPool2d(kernel_size=2, stride=2))\n",
    "        self.layer4 = nn.Sequential(\n",
    "            nn.Conv2d(128, 256, kernel_size=3, padding=1),\n",
    "            nn.BatchNorm2d(256),\n",
    "            nn.ReLU(),\n",
    "            nn.MaxPool2d(kernel_size=2, stride=2))\n",
    "        self.layer5 = nn.Sequential(\n",
    "            nn.Conv2d(256, 512, kernel_size=3, padding=1),\n",
    "            nn.BatchNorm2d(512),\n",
    "            nn.ReLU(),\n",
    "            nn.MaxPool2d(kernel_size=2, stride=2))\n",
    "        self.fc = nn.Linear(512*1*1, 10)\n",
    "\n",
    "    def forward(self, x):\n",
    "        out = self.layer1(x)\n",
    "        out = self.layer2(out)\n",
    "        out = self.layer3(out)\n",
    "        out = self.layer4(out)\n",
    "        out = self.layer5(out)\n",
    "        out = out.view(out.size(0), -1)\n",
    "        out = self.fc(out)\n",
    "        return out\n",
    "\n",
    "CNN5 = CNN5"
   ]
  },
  {
   "cell_type": "code",
   "execution_count": 7,
   "metadata": {},
   "outputs": [],
   "source": [
    "#CNN with 5 layer + dropout\n",
    "\n",
    "import torch.nn as nn\n",
    "class CNN5DROP(nn.Module):\n",
    "    def __init__(self,dropout_rate = 0.1):\n",
    "        super(CNN5DROP,self).__init__()\n",
    "        self.dropout_rate = dropout_rate\n",
    "        \n",
    "        self.layer1 = nn.Sequential(\n",
    "            nn.Conv2d(3,96,2,1,0),\n",
    "            nn.ReLU(),\n",
    "            nn.MaxPool2d(2,1)\n",
    "        )\n",
    "        self.layer2 = nn.Sequential(\n",
    "            nn.Conv2d(96,256,5,1,2),\n",
    "            nn.ReLU(),\n",
    "            nn.MaxPool2d(3,2)\n",
    "        )\n",
    "        self.layer3 = nn.Sequential(\n",
    "            nn.Conv2d(256,384,3,1,1),\n",
    "            nn.ReLU(),\n",
    "            nn.MaxPool2d(3,1,1)\n",
    "        )\n",
    "        self.layer4 = nn.Sequential(\n",
    "            nn.Conv2d(384,384,3,1,1),\n",
    "            nn.ReLU(),\n",
    "            nn.MaxPool2d(3,1,1)\n",
    "        )\n",
    "        self.layer5 = nn.Sequential(\n",
    "            nn.Conv2d(384,256,3,1,1),\n",
    "            nn.ReLU(),\n",
    "            nn.MaxPool2d(3,2)\n",
    "        )\n",
    "        \n",
    "        self.f1 = nn.Linear(256*6*6,4096)\n",
    "        self.f2 = nn.Linear(4096,4096)\n",
    "        self.f3 = nn.Linear(4096,10)\n",
    "        \n",
    "    def forward(self,x):\n",
    "        out = self.layer1(x)\n",
    "        #print(out.shape)\n",
    "        out = self.layer2(out)\n",
    "        #print(out.shape)\n",
    "        out = self.layer3(out)\n",
    "        #print(out.shape)\n",
    "        out = self.layer4(out)\n",
    "        #print(out.shape)\n",
    "        out = self.layer5(out)\n",
    "        #print(out.shape)\n",
    "        out = out.view(out.size(0),-1)\n",
    "        #out = out.view(-1,256*6*6)\n",
    "        out = nn.functional.relu(self.f1(out))\n",
    "        out = nn.functional.dropout(out,self.dropout_rate)\n",
    "        out = nn.functional.relu(self.f2(out))\n",
    "        out = nn.functional.dropout(out,self.dropout_rate)\n",
    "        out = self.f3(out)\n",
    "        out = nn.functional.log_softmax(out,dim=1)\n",
    "        \n",
    "        return out\n",
    "    \n",
    "CNN5DROP = CNN5DROP().to(device)\n",
    "\n",
    "#Accuracy of the net on the test set: 82.27%"
   ]
  },
  {
   "cell_type": "code",
   "execution_count": 8,
   "metadata": {},
   "outputs": [],
   "source": [
    "#This model cant learn\n",
    "\n",
    "\n",
    "\n",
    "\n",
    "class CNN10(nn.Module):\n",
    "    def __init__(self):\n",
    "        super(CNN10, self).__init__()\n",
    "        self.layer1 = nn.Sequential(\n",
    "            nn.Conv2d(in_channels=3, out_channels=96, kernel_size=2, stride=1, padding=0),\n",
    "            nn.ReLU(),\n",
    "            nn.MaxPool2d(kernel_size=2, stride=1),\n",
    "            nn.Dropout(0.25)\n",
    "        )\n",
    "        \n",
    "        self.layer2 = nn.Sequential(\n",
    "            nn.Conv2d(in_channels=96, out_channels=256, kernel_size=5, stride=1, padding=2),\n",
    "            nn.ReLU(),\n",
    "            nn.MaxPool2d(kernel_size=3, stride=2),\n",
    "            nn.Dropout(0.25)\n",
    "        )\n",
    "        \n",
    "        self.layer3 = nn.Sequential(\n",
    "            nn.Conv2d(in_channels=256, out_channels=384, kernel_size=3, stride=1, padding=1),\n",
    "            nn.ReLU(),\n",
    "            nn.Dropout(0.25)\n",
    "        )\n",
    "\n",
    "        self.layer4 = nn.Sequential(\n",
    "            nn.Conv2d(in_channels=384, out_channels=384, kernel_size=3, stride=1, padding=1),\n",
    "            nn.ReLU(),\n",
    "            nn.Dropout(0.25)\n",
    "        )\n",
    "        \n",
    "        self.layer5 = nn.Sequential(\n",
    "            nn.Conv2d(in_channels=384, out_channels=256, kernel_size=3, stride=1, padding=1),\n",
    "            nn.ReLU(),\n",
    "            nn.MaxPool2d(kernel_size=3, stride=2),\n",
    "            nn.Dropout(0.25)\n",
    "        )\n",
    "        \n",
    "        self.layer6 = nn.Sequential(\n",
    "            nn.Conv2d(in_channels=256, out_channels=256, kernel_size=3, stride=1, padding=1),\n",
    "            nn.ReLU(),\n",
    "            nn.Dropout(0.25)\n",
    "        )\n",
    "        \n",
    "        self.layer7 = nn.Sequential(\n",
    "            nn.Conv2d(in_channels=256, out_channels=256, kernel_size=3, stride=1, padding=1),\n",
    "            nn.ReLU(),\n",
    "            nn.Dropout(0.25)\n",
    "        )\n",
    "        \n",
    "        self.layer8 = nn.Sequential(\n",
    "            nn.Conv2d(in_channels=256, out_channels=256, kernel_size=3, stride=1, padding=1),\n",
    "            nn.ReLU(),\n",
    "            nn.MaxPool2d(kernel_size=3, stride=2),\n",
    "            nn.Dropout(0.25)\n",
    "        )\n",
    "        \n",
    "        self.layer9 = nn.Sequential(\n",
    "            nn.Conv2d(in_channels=256, out_channels=512, kernel_size=3, stride=1, padding=1),\n",
    "            nn.ReLU(),\n",
    "            nn.MaxPool2d(kernel_size=2, stride=2),\n",
    "            nn.Dropout(0.5)\n",
    "        )\n",
    "        self.layer10 = nn.Sequential(\n",
    "            nn.Linear(512, 1024),\n",
    "            nn.ReLU(),\n",
    "            nn.Linear(1024, 10),\n",
    "            nn.Softmax(dim=1)\n",
    "        )\n",
    "        \n",
    "    def forward(self, x):\n",
    "        x = self.layer1(x)\n",
    "        #print(x.shape)\n",
    "        x = self.layer2(x)\n",
    "        #print(x.shape)\n",
    "        x = self.layer3(x)\n",
    "        #print(x.shape)\n",
    "        x = self.layer4(x)\n",
    "        #print(x.shape)\n",
    "        x = self.layer5(x)\n",
    "        #print(x.shape)\n",
    "        x = self.layer6(x)\n",
    "        #print(x.shape)\n",
    "        x = self.layer7(x)\n",
    "        #print(x.shape)\n",
    "        x = self.layer8(x)\n",
    "        #print(x.shape)\n",
    "        x = self.layer9(x)\n",
    "        #print(x.shape)\n",
    "        x = x.view(x.size(0), -1)\n",
    "        x = self.layer10(x)\n",
    "        \n",
    "        return x\n",
    "        \n",
    "CNN10 = CNN10"
   ]
  },
  {
   "cell_type": "code",
   "execution_count": 9,
   "metadata": {},
   "outputs": [
    {
     "name": "stderr",
     "output_type": "stream",
     "text": [
      "CNN3-SGD-LR0.1: 100%|██████████| 10/10 [09:35<00:00, 57.56s/it]\n"
     ]
    },
    {
     "name": "stdout",
     "output_type": "stream",
     "text": [
      "Model: CNN3, Optimizer: SGD, LR: 0.1, Final Loss: 1.5072, Accuracy: 46.5416%\n"
     ]
    },
    {
     "name": "stderr",
     "output_type": "stream",
     "text": [
      "CNN3-SGD-LR0.01: 100%|██████████| 10/10 [09:24<00:00, 56.48s/it]\n"
     ]
    },
    {
     "name": "stdout",
     "output_type": "stream",
     "text": [
      "Model: CNN3, Optimizer: SGD, LR: 0.01, Final Loss: 0.8654, Accuracy: 64.6184%\n"
     ]
    },
    {
     "name": "stderr",
     "output_type": "stream",
     "text": [
      "CNN3-SGD-LR0.001: 100%|██████████| 10/10 [29:36<00:00, 177.67s/it] \n"
     ]
    },
    {
     "name": "stdout",
     "output_type": "stream",
     "text": [
      "Model: CNN3, Optimizer: SGD, LR: 0.001, Final Loss: 0.7741, Accuracy: 71.2538%\n"
     ]
    },
    {
     "name": "stderr",
     "output_type": "stream",
     "text": [
      "CNN3-SGD-LR1e-06: 100%|██████████| 10/10 [26:03<00:00, 156.35s/it]\n"
     ]
    },
    {
     "name": "stdout",
     "output_type": "stream",
     "text": [
      "Model: CNN3, Optimizer: SGD, LR: 1e-06, Final Loss: 0.7670, Accuracy: 72.0892%\n"
     ]
    },
    {
     "name": "stderr",
     "output_type": "stream",
     "text": [
      "CNN5-SGD-LR0.1: 100%|██████████| 10/10 [10:44<00:00, 64.48s/it]\n"
     ]
    },
    {
     "name": "stdout",
     "output_type": "stream",
     "text": [
      "Model: CNN5, Optimizer: SGD, LR: 0.1, Final Loss: 0.4084, Accuracy: 64.8690%\n"
     ]
    },
    {
     "name": "stderr",
     "output_type": "stream",
     "text": [
      "CNN5-SGD-LR0.01: 100%|██████████| 10/10 [10:45<00:00, 64.52s/it]\n"
     ]
    },
    {
     "name": "stdout",
     "output_type": "stream",
     "text": [
      "Model: CNN5, Optimizer: SGD, LR: 0.01, Final Loss: 0.0226, Accuracy: 97.7222%\n"
     ]
    },
    {
     "name": "stderr",
     "output_type": "stream",
     "text": [
      "CNN5-SGD-LR0.001: 100%|██████████| 10/10 [10:45<00:00, 64.55s/it]\n"
     ]
    },
    {
     "name": "stdout",
     "output_type": "stream",
     "text": [
      "Model: CNN5, Optimizer: SGD, LR: 0.001, Final Loss: 0.0125, Accuracy: 99.8584%\n"
     ]
    },
    {
     "name": "stderr",
     "output_type": "stream",
     "text": [
      "CNN5-SGD-LR1e-06: 100%|██████████| 10/10 [10:46<00:00, 64.60s/it]\n"
     ]
    },
    {
     "name": "stdout",
     "output_type": "stream",
     "text": [
      "Model: CNN5, Optimizer: SGD, LR: 1e-06, Final Loss: 0.0121, Accuracy: 99.8978%\n"
     ]
    },
    {
     "name": "stderr",
     "output_type": "stream",
     "text": [
      "CNN10-SGD-LR0.1: 100%|██████████| 10/10 [5:04:17<00:00, 1825.72s/it] \n"
     ]
    },
    {
     "name": "stdout",
     "output_type": "stream",
     "text": [
      "Model: CNN10, Optimizer: SGD, LR: 0.1, Final Loss: 2.3026, Accuracy: 9.7494%\n"
     ]
    },
    {
     "name": "stderr",
     "output_type": "stream",
     "text": [
      "CNN10-SGD-LR0.01: 100%|██████████| 10/10 [1:06:18<00:00, 397.83s/it]\n"
     ]
    },
    {
     "name": "stdout",
     "output_type": "stream",
     "text": [
      "Model: CNN10, Optimizer: SGD, LR: 0.01, Final Loss: 2.3026, Accuracy: 9.8794%\n"
     ]
    },
    {
     "name": "stderr",
     "output_type": "stream",
     "text": [
      "CNN10-SGD-LR0.001:  30%|███       | 3/10 [17:26<40:55, 350.78s/it]"
     ]
    }
   ],
   "source": [
    "### VARIABLE ###\n",
    "import itertools\n",
    "import matplotlib.pyplot as plt\n",
    "from tqdm import tqdm\n",
    "#lr_list = [100000,10000,1000,100,10,1,1e-1,1e-2,1e-3,1e-4,1e-5,1e-6]\n",
    "lr_list = [1e-1,1e-2,1e-3,1e-6]\n",
    "\n",
    "opt_momentum = 0.9\n",
    "nb_epoch = 10\n",
    "dprate = 0.1\n",
    "# Setup\n",
    "# Setup models dictionary\n",
    "models = {'CNN3': CNN3(), 'CNN5': CNN5(), 'CNN10': CNN10()}\n",
    "optimizers = {'SGD': optim.SGD}\n",
    "colors = itertools.cycle(['b', 'g', 'r', 'c', 'm', 'y', 'k'])\n",
    "\n",
    "plt.figure(figsize=(10, 8))\n",
    "\n",
    "for model_name, model in models.items():\n",
    "    model.to(device)\n",
    "    for opt_name, opt_func in optimizers.items():\n",
    "        for LR in lr_list:\n",
    "            optimizer = opt_func(model.parameters(), lr=LR, momentum=opt_momentum if opt_name == 'SGD' else None)\n",
    "            criterion = nn.CrossEntropyLoss().to(device)\n",
    "            losses = []\n",
    "            total_correct = 0\n",
    "            total_images = 0\n",
    "\n",
    "            for epoch in tqdm(range(nb_epoch), desc=f\"{model_name}-{opt_name}-LR{LR}\"):\n",
    "                model.train()  # Set model to training mode\n",
    "                running_loss = 0.0\n",
    "                correct = 0\n",
    "                total = 0\n",
    "\n",
    "                for i, data in enumerate(trainloader, 0):\n",
    "                    inputs, labels = data[0].to(device), data[1].to(device)\n",
    "                    optimizer.zero_grad()\n",
    "\n",
    "                    outputs = model(inputs)\n",
    "                    loss = criterion(outputs, labels)\n",
    "                    loss.backward()\n",
    "                    optimizer.step()\n",
    "\n",
    "                    running_loss += loss.item()\n",
    "                    _, predicted = torch.max(outputs.data, 1)\n",
    "                    total += labels.size(0)\n",
    "                    correct += (predicted == labels).sum().item()\n",
    "\n",
    "                avg_loss = running_loss / len(trainloader)\n",
    "                losses.append(avg_loss)\n",
    "                accuracy = 100 * correct / total\n",
    "                total_correct += correct\n",
    "                total_images += total\n",
    "\n",
    "            final_accuracy = 100 * total_correct / total_images\n",
    "            print(f\"Model: {model_name}, Optimizer: {opt_name}, LR: {LR}, Final Loss: {avg_loss:.4f}, Accuracy: {final_accuracy:.4f}%\")\n",
    "\n",
    "            # Plot\n",
    "            plt.plot(losses, label=f'{model_name}-{opt_name}-LR{LR}', color=next(colors))\n",
    "\n",
    "plt.title('Training Loss per Epoch')\n",
    "plt.xlabel('Epoch')\n",
    "plt.ylabel('Loss')\n",
    "plt.legend()\n",
    "plt.show()\n",
    "# 78"
   ]
  },
  {
   "attachments": {},
   "cell_type": "markdown",
   "metadata": {},
   "source": [
    "#### Cost by LR  \n",
    "1000 nan  \n",
    "100 nan  \n",
    "10 nan  \n",
    "1 nan  \n",
    "0.1 1.4555832147598267  \n",
    "#### 0.01 0.8523364067077637  \n",
    "0.001 1.3504940271377563  \n",
    "0.0001 2.3020293712615967  \n",
    "1e-05 2.3091320991516113  \n",
    "1e-06 2.307286024093628  "
   ]
  },
  {
   "attachments": {},
   "cell_type": "markdown",
   "metadata": {},
   "source": [
    "transforms.Normalize((0.5, 0.5, 0.5), (0.5, 0.5, 0.5)) normalizes the data to have a mean of 0.5 and a standard deviation of 0.5.  \n",
    "This is a common preprocessing step in deep learning, as it helps improve model performance and prevent overfitting.  "
   ]
  },
  {
   "cell_type": "code",
   "execution_count": null,
   "metadata": {},
   "outputs": [
    {
     "name": "stdout",
     "output_type": "stream",
     "text": [
      "Accuracy of the net on the test set: 82.2%\n"
     ]
    }
   ],
   "source": [
    "#if there is a CUDA memeory error, change the batch size(reduce it)\n",
    "net.eval()\n",
    "\n",
    "# Calculate the accuracy\n",
    "correct = 0\n",
    "total = 0\n",
    "with torch.no_grad():\n",
    "    for data in testloader:\n",
    "        inputs, labels = data\n",
    "        inputs, labels = inputs.to(device), labels.to(device)\n",
    "\n",
    "        outputs = net(inputs)\n",
    "        _, predicted = torch.max(outputs.data, 1)\n",
    "        total += labels.size(0)\n",
    "        correct += (predicted == labels).sum().item()\n",
    "\n",
    "accuracy = 100 * correct / total\n",
    "print(\"Accuracy of the net on the test set: {}%\".format(accuracy))\n"
   ]
  },
  {
   "cell_type": "code",
   "execution_count": null,
   "metadata": {},
   "outputs": [
    {
     "name": "stdout",
     "output_type": "stream",
     "text": [
      "showing at least 10 of the errors\n"
     ]
    }
   ],
   "source": [
    "import numpy as np\n",
    "import matplotlib.pyplot as plt\n",
    "\n",
    "num_of_examples = 10 #only even numbers (please)\n",
    "num_cols = 2\n",
    "num_rows = int(num_of_examples/num_cols)\n",
    "\n",
    "print(\"showing at least %s of the errors\"%num_of_examples)\n",
    "\n",
    "def imshow(img):\n",
    "\timg = img / 2 + 0.5 # unnormalize\n",
    "\tnpimg = img.cpu().numpy()\n",
    "\tplt.imshow(np.transpose(npimg, (1, 2, 0)))#rearranges the dimensions of the image array from (C, H, W) (color channel, height, width) to (H, W, C)\n",
    "\tplt.axis('off')\n",
    "\n",
    "wrong_images = []\n",
    "wrong_preds = []\n",
    "wrong_labels = []\n",
    "#image list of the CIFAR-10 in text\n",
    "img_list = ['airplane','automobile','bird','cat','deer','dog','frog','horse','ship','truck']\n",
    "cnt = 0\n",
    "with torch.no_grad():\n",
    "\tfor data in testloader:\n",
    "\t\tinputs, labels = data\n",
    "\t\tinputs, labels = inputs.to(device), labels.to(device)\n",
    "\t\toutputs = net(inputs)\n",
    "\t\t_, predicted = torch.max(outputs.data, 1)\n",
    "\t\tcnt = cnt + 1\n",
    "# Store the wrongly guessed images, predictions, and actual answers\n",
    "for i, (p, l) in enumerate(zip(predicted, labels)):\n",
    "\tif p != l:\n",
    "\t\twrong_images.append(inputs[i])\n",
    "\t\twrong_preds.append(p.item())\n",
    "\t\twrong_labels.append(l.item())\n"
   ]
  },
  {
   "cell_type": "code",
   "execution_count": null,
   "metadata": {},
   "outputs": [
    {
     "data": {
      "text/plain": [
       "1000"
      ]
     },
     "execution_count": 62,
     "metadata": {},
     "output_type": "execute_result"
    }
   ],
   "source": [
    "testloader.batch_size"
   ]
  },
  {
   "cell_type": "code",
   "execution_count": null,
   "metadata": {},
   "outputs": [
    {
     "name": "stderr",
     "output_type": "stream",
     "text": [
      "Clipping input data to the valid range for imshow with RGB data ([0..1] for floats or [0..255] for integers).\n",
      "Clipping input data to the valid range for imshow with RGB data ([0..1] for floats or [0..255] for integers).\n",
      "Clipping input data to the valid range for imshow with RGB data ([0..1] for floats or [0..255] for integers).\n",
      "Clipping input data to the valid range for imshow with RGB data ([0..1] for floats or [0..255] for integers).\n",
      "Clipping input data to the valid range for imshow with RGB data ([0..1] for floats or [0..255] for integers).\n",
      "Clipping input data to the valid range for imshow with RGB data ([0..1] for floats or [0..255] for integers).\n",
      "Clipping input data to the valid range for imshow with RGB data ([0..1] for floats or [0..255] for integers).\n",
      "Clipping input data to the valid range for imshow with RGB data ([0..1] for floats or [0..255] for integers).\n",
      "Clipping input data to the valid range for imshow with RGB data ([0..1] for floats or [0..255] for integers).\n",
      "Clipping input data to the valid range for imshow with RGB data ([0..1] for floats or [0..255] for integers).\n"
     ]
    },
    {
     "data": {
      "image/png": "[encoded data removed]",
      "text/plain": [
       "<Figure size 1400x1400 with 10 Axes>"
      ]
     },
     "metadata": {},
     "output_type": "display_data"
    }
   ],
   "source": [
    "import random\n",
    "fig, ax = plt.subplots(num_rows, num_cols, figsize=(14, 14))\n",
    "\n",
    "for i, (img, p, l) in enumerate(zip(wrong_images, wrong_preds, wrong_labels)):\n",
    "\tnum = random.randrange(0,len(wrong_images))\n",
    "\timg , p , l = wrong_images[num], wrong_preds[num], wrong_labels[num]\n",
    "\tr = i // num_cols\n",
    "\tc = i % num_cols\n",
    "\ttry:\n",
    "\t\tax[r, c].imshow(np.transpose(torchvision.utils.make_grid(img).to('cpu').numpy(), (1, 2, 0)))\n",
    "\t\tax[r, c].set_title(\"Model prediction: {}\\nActual answer: {}\".format(img_list[p], img_list[l]))\n",
    "\t\tax[r, c].axis('off')\n",
    "\texcept:\n",
    "\t\tbreak\n",
    "\tif i > num_of_examples: #print only 10\n",
    "\t\tbreak\n",
    "plt.tight_layout()\n",
    "plt.show()"
   ]
  }
 ],
 "metadata": {
  "kernelspec": {
   "display_name": "base",
   "language": "python",
   "name": "python3"
  },
  "language_info": {
   "codemirror_mode": {
    "name": "ipython",
    "version": 3
   },
   "file_extension": ".py",
   "mimetype": "text/x-python",
   "name": "python",
   "nbconvert_exporter": "python",
   "pygments_lexer": "ipython3",
   "version": "3.12.2"
  },
  "orig_nbformat": 4,
  "vscode": {
   "interpreter": {
    "hash": "ad2bdc8ecc057115af97d19610ffacc2b4e99fae6737bb82f5d7fb13d2f2c186"
   }
  }
 },
 "nbformat": 4,
 "nbformat_minor": 2
}
